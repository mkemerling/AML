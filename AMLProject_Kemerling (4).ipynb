{
  "nbformat": 4,
  "nbformat_minor": 0,
  "metadata": {
    "colab": {
      "name": "AMLProject_Kemerling.ipynb",
      "provenance": []
    },
    "kernelspec": {
      "name": "python3",
      "display_name": "Python 3"
    },
    "language_info": {
      "name": "python"
    }
  },
  "cells": [
    {
      "cell_type": "code",
      "execution_count": 1,
      "metadata": {
        "id": "O0JrKuKPWZUI"
      },
      "outputs": [],
      "source": [
        "import matplotlib.pyplot as plt \n",
        "from sklearn.preprocessing import scale\n",
        "from sklearn.model_selection import train_test_split\n",
        "from sklearn.linear_model import Ridge, Lasso\n",
        "from sklearn.linear_model import LinearRegression\n",
        "from sklearn.metrics import mean_squared_error\n",
        "\n",
        "import numpy as np\n",
        "import pandas as pd"
      ]
    },
    {
      "cell_type": "markdown",
      "source": [
        "## Downloading the data from Kaggle .csv"
      ],
      "metadata": {
        "id": "45H74nKCX3xn"
      }
    },
    {
      "cell_type": "code",
      "source": [
        "data = pd.read_csv(\"/content/2019.csv\")\n",
        "data.head(10) #10 Happiest Countries\n"
      ],
      "metadata": {
        "colab": {
          "base_uri": "https://localhost:8080/",
          "height": 424
        },
        "id": "ukV1CF4sWv6v",
        "outputId": "34ca553b-d4d8-43f7-8229-a6ee5cc5abd0"
      },
      "execution_count": 10,
      "outputs": [
        {
          "output_type": "execute_result",
          "data": {
            "text/plain": [
              "   Overall rank Country or region  Score  GDP per capita  Social support  \\\n",
              "0             1           Finland  7.769           1.340           1.587   \n",
              "1             2           Denmark  7.600           1.383           1.573   \n",
              "2             3            Norway  7.554           1.488           1.582   \n",
              "3             4           Iceland  7.494           1.380           1.624   \n",
              "4             5       Netherlands  7.488           1.396           1.522   \n",
              "5             6       Switzerland  7.480           1.452           1.526   \n",
              "6             7            Sweden  7.343           1.387           1.487   \n",
              "7             8       New Zealand  7.307           1.303           1.557   \n",
              "8             9            Canada  7.278           1.365           1.505   \n",
              "9            10           Austria  7.246           1.376           1.475   \n",
              "\n",
              "   Healthy life expectancy  Freedom to make life choices  Generosity  \\\n",
              "0                    0.986                         0.596       0.153   \n",
              "1                    0.996                         0.592       0.252   \n",
              "2                    1.028                         0.603       0.271   \n",
              "3                    1.026                         0.591       0.354   \n",
              "4                    0.999                         0.557       0.322   \n",
              "5                    1.052                         0.572       0.263   \n",
              "6                    1.009                         0.574       0.267   \n",
              "7                    1.026                         0.585       0.330   \n",
              "8                    1.039                         0.584       0.285   \n",
              "9                    1.016                         0.532       0.244   \n",
              "\n",
              "   Perceptions of corruption  \n",
              "0                      0.393  \n",
              "1                      0.410  \n",
              "2                      0.341  \n",
              "3                      0.118  \n",
              "4                      0.298  \n",
              "5                      0.343  \n",
              "6                      0.373  \n",
              "7                      0.380  \n",
              "8                      0.308  \n",
              "9                      0.226  "
            ],
            "text/html": [
              "\n",
              "  <div id=\"df-6db6f012-6b34-4d26-bb09-f2f90fbd1179\">\n",
              "    <div class=\"colab-df-container\">\n",
              "      <div>\n",
              "<style scoped>\n",
              "    .dataframe tbody tr th:only-of-type {\n",
              "        vertical-align: middle;\n",
              "    }\n",
              "\n",
              "    .dataframe tbody tr th {\n",
              "        vertical-align: top;\n",
              "    }\n",
              "\n",
              "    .dataframe thead th {\n",
              "        text-align: right;\n",
              "    }\n",
              "</style>\n",
              "<table border=\"1\" class=\"dataframe\">\n",
              "  <thead>\n",
              "    <tr style=\"text-align: right;\">\n",
              "      <th></th>\n",
              "      <th>Overall rank</th>\n",
              "      <th>Country or region</th>\n",
              "      <th>Score</th>\n",
              "      <th>GDP per capita</th>\n",
              "      <th>Social support</th>\n",
              "      <th>Healthy life expectancy</th>\n",
              "      <th>Freedom to make life choices</th>\n",
              "      <th>Generosity</th>\n",
              "      <th>Perceptions of corruption</th>\n",
              "    </tr>\n",
              "  </thead>\n",
              "  <tbody>\n",
              "    <tr>\n",
              "      <th>0</th>\n",
              "      <td>1</td>\n",
              "      <td>Finland</td>\n",
              "      <td>7.769</td>\n",
              "      <td>1.340</td>\n",
              "      <td>1.587</td>\n",
              "      <td>0.986</td>\n",
              "      <td>0.596</td>\n",
              "      <td>0.153</td>\n",
              "      <td>0.393</td>\n",
              "    </tr>\n",
              "    <tr>\n",
              "      <th>1</th>\n",
              "      <td>2</td>\n",
              "      <td>Denmark</td>\n",
              "      <td>7.600</td>\n",
              "      <td>1.383</td>\n",
              "      <td>1.573</td>\n",
              "      <td>0.996</td>\n",
              "      <td>0.592</td>\n",
              "      <td>0.252</td>\n",
              "      <td>0.410</td>\n",
              "    </tr>\n",
              "    <tr>\n",
              "      <th>2</th>\n",
              "      <td>3</td>\n",
              "      <td>Norway</td>\n",
              "      <td>7.554</td>\n",
              "      <td>1.488</td>\n",
              "      <td>1.582</td>\n",
              "      <td>1.028</td>\n",
              "      <td>0.603</td>\n",
              "      <td>0.271</td>\n",
              "      <td>0.341</td>\n",
              "    </tr>\n",
              "    <tr>\n",
              "      <th>3</th>\n",
              "      <td>4</td>\n",
              "      <td>Iceland</td>\n",
              "      <td>7.494</td>\n",
              "      <td>1.380</td>\n",
              "      <td>1.624</td>\n",
              "      <td>1.026</td>\n",
              "      <td>0.591</td>\n",
              "      <td>0.354</td>\n",
              "      <td>0.118</td>\n",
              "    </tr>\n",
              "    <tr>\n",
              "      <th>4</th>\n",
              "      <td>5</td>\n",
              "      <td>Netherlands</td>\n",
              "      <td>7.488</td>\n",
              "      <td>1.396</td>\n",
              "      <td>1.522</td>\n",
              "      <td>0.999</td>\n",
              "      <td>0.557</td>\n",
              "      <td>0.322</td>\n",
              "      <td>0.298</td>\n",
              "    </tr>\n",
              "    <tr>\n",
              "      <th>5</th>\n",
              "      <td>6</td>\n",
              "      <td>Switzerland</td>\n",
              "      <td>7.480</td>\n",
              "      <td>1.452</td>\n",
              "      <td>1.526</td>\n",
              "      <td>1.052</td>\n",
              "      <td>0.572</td>\n",
              "      <td>0.263</td>\n",
              "      <td>0.343</td>\n",
              "    </tr>\n",
              "    <tr>\n",
              "      <th>6</th>\n",
              "      <td>7</td>\n",
              "      <td>Sweden</td>\n",
              "      <td>7.343</td>\n",
              "      <td>1.387</td>\n",
              "      <td>1.487</td>\n",
              "      <td>1.009</td>\n",
              "      <td>0.574</td>\n",
              "      <td>0.267</td>\n",
              "      <td>0.373</td>\n",
              "    </tr>\n",
              "    <tr>\n",
              "      <th>7</th>\n",
              "      <td>8</td>\n",
              "      <td>New Zealand</td>\n",
              "      <td>7.307</td>\n",
              "      <td>1.303</td>\n",
              "      <td>1.557</td>\n",
              "      <td>1.026</td>\n",
              "      <td>0.585</td>\n",
              "      <td>0.330</td>\n",
              "      <td>0.380</td>\n",
              "    </tr>\n",
              "    <tr>\n",
              "      <th>8</th>\n",
              "      <td>9</td>\n",
              "      <td>Canada</td>\n",
              "      <td>7.278</td>\n",
              "      <td>1.365</td>\n",
              "      <td>1.505</td>\n",
              "      <td>1.039</td>\n",
              "      <td>0.584</td>\n",
              "      <td>0.285</td>\n",
              "      <td>0.308</td>\n",
              "    </tr>\n",
              "    <tr>\n",
              "      <th>9</th>\n",
              "      <td>10</td>\n",
              "      <td>Austria</td>\n",
              "      <td>7.246</td>\n",
              "      <td>1.376</td>\n",
              "      <td>1.475</td>\n",
              "      <td>1.016</td>\n",
              "      <td>0.532</td>\n",
              "      <td>0.244</td>\n",
              "      <td>0.226</td>\n",
              "    </tr>\n",
              "  </tbody>\n",
              "</table>\n",
              "</div>\n",
              "      <button class=\"colab-df-convert\" onclick=\"convertToInteractive('df-6db6f012-6b34-4d26-bb09-f2f90fbd1179')\"\n",
              "              title=\"Convert this dataframe to an interactive table.\"\n",
              "              style=\"display:none;\">\n",
              "        \n",
              "  <svg xmlns=\"http://www.w3.org/2000/svg\" height=\"24px\"viewBox=\"0 0 24 24\"\n",
              "       width=\"24px\">\n",
              "    <path d=\"M0 0h24v24H0V0z\" fill=\"none\"/>\n",
              "    <path d=\"M18.56 5.44l.94 2.06.94-2.06 2.06-.94-2.06-.94-.94-2.06-.94 2.06-2.06.94zm-11 1L8.5 8.5l.94-2.06 2.06-.94-2.06-.94L8.5 2.5l-.94 2.06-2.06.94zm10 10l.94 2.06.94-2.06 2.06-.94-2.06-.94-.94-2.06-.94 2.06-2.06.94z\"/><path d=\"M17.41 7.96l-1.37-1.37c-.4-.4-.92-.59-1.43-.59-.52 0-1.04.2-1.43.59L10.3 9.45l-7.72 7.72c-.78.78-.78 2.05 0 2.83L4 21.41c.39.39.9.59 1.41.59.51 0 1.02-.2 1.41-.59l7.78-7.78 2.81-2.81c.8-.78.8-2.07 0-2.86zM5.41 20L4 18.59l7.72-7.72 1.47 1.35L5.41 20z\"/>\n",
              "  </svg>\n",
              "      </button>\n",
              "      \n",
              "  <style>\n",
              "    .colab-df-container {\n",
              "      display:flex;\n",
              "      flex-wrap:wrap;\n",
              "      gap: 12px;\n",
              "    }\n",
              "\n",
              "    .colab-df-convert {\n",
              "      background-color: #E8F0FE;\n",
              "      border: none;\n",
              "      border-radius: 50%;\n",
              "      cursor: pointer;\n",
              "      display: none;\n",
              "      fill: #1967D2;\n",
              "      height: 32px;\n",
              "      padding: 0 0 0 0;\n",
              "      width: 32px;\n",
              "    }\n",
              "\n",
              "    .colab-df-convert:hover {\n",
              "      background-color: #E2EBFA;\n",
              "      box-shadow: 0px 1px 2px rgba(60, 64, 67, 0.3), 0px 1px 3px 1px rgba(60, 64, 67, 0.15);\n",
              "      fill: #174EA6;\n",
              "    }\n",
              "\n",
              "    [theme=dark] .colab-df-convert {\n",
              "      background-color: #3B4455;\n",
              "      fill: #D2E3FC;\n",
              "    }\n",
              "\n",
              "    [theme=dark] .colab-df-convert:hover {\n",
              "      background-color: #434B5C;\n",
              "      box-shadow: 0px 1px 3px 1px rgba(0, 0, 0, 0.15);\n",
              "      filter: drop-shadow(0px 1px 2px rgba(0, 0, 0, 0.3));\n",
              "      fill: #FFFFFF;\n",
              "    }\n",
              "  </style>\n",
              "\n",
              "      <script>\n",
              "        const buttonEl =\n",
              "          document.querySelector('#df-6db6f012-6b34-4d26-bb09-f2f90fbd1179 button.colab-df-convert');\n",
              "        buttonEl.style.display =\n",
              "          google.colab.kernel.accessAllowed ? 'block' : 'none';\n",
              "\n",
              "        async function convertToInteractive(key) {\n",
              "          const element = document.querySelector('#df-6db6f012-6b34-4d26-bb09-f2f90fbd1179');\n",
              "          const dataTable =\n",
              "            await google.colab.kernel.invokeFunction('convertToInteractive',\n",
              "                                                     [key], {});\n",
              "          if (!dataTable) return;\n",
              "\n",
              "          const docLinkHtml = 'Like what you see? Visit the ' +\n",
              "            '<a target=\"_blank\" href=https://colab.research.google.com/notebooks/data_table.ipynb>data table notebook</a>'\n",
              "            + ' to learn more about interactive tables.';\n",
              "          element.innerHTML = '';\n",
              "          dataTable['output_type'] = 'display_data';\n",
              "          await google.colab.output.renderOutput(dataTable, element);\n",
              "          const docLink = document.createElement('div');\n",
              "          docLink.innerHTML = docLinkHtml;\n",
              "          element.appendChild(docLink);\n",
              "        }\n",
              "      </script>\n",
              "    </div>\n",
              "  </div>\n",
              "  "
            ]
          },
          "metadata": {},
          "execution_count": 10
        }
      ]
    },
    {
      "cell_type": "code",
      "source": [
        "data.tail(10) #10 Least Happy Countries"
      ],
      "metadata": {
        "colab": {
          "base_uri": "https://localhost:8080/",
          "height": 459
        },
        "id": "32H-SiYmIaGC",
        "outputId": "abf23ef9-c428-4b02-b2a6-b7e08ab915d2"
      },
      "execution_count": 8,
      "outputs": [
        {
          "output_type": "execute_result",
          "data": {
            "text/plain": [
              "     Overall rank         Country or region  Score  GDP per capita  \\\n",
              "146           147                     Haiti  3.597           0.323   \n",
              "147           148                  Botswana  3.488           1.041   \n",
              "148           149                     Syria  3.462           0.619   \n",
              "149           150                    Malawi  3.410           0.191   \n",
              "150           151                     Yemen  3.380           0.287   \n",
              "151           152                    Rwanda  3.334           0.359   \n",
              "152           153                  Tanzania  3.231           0.476   \n",
              "153           154               Afghanistan  3.203           0.350   \n",
              "154           155  Central African Republic  3.083           0.026   \n",
              "155           156               South Sudan  2.853           0.306   \n",
              "\n",
              "     Social support  Healthy life expectancy  Freedom to make life choices  \\\n",
              "146           0.688                    0.449                         0.026   \n",
              "147           1.145                    0.538                         0.455   \n",
              "148           0.378                    0.440                         0.013   \n",
              "149           0.560                    0.495                         0.443   \n",
              "150           1.163                    0.463                         0.143   \n",
              "151           0.711                    0.614                         0.555   \n",
              "152           0.885                    0.499                         0.417   \n",
              "153           0.517                    0.361                         0.000   \n",
              "154           0.000                    0.105                         0.225   \n",
              "155           0.575                    0.295                         0.010   \n",
              "\n",
              "     Generosity  Perceptions of corruption  Estimate  \n",
              "146       0.419                      0.110  3.364403  \n",
              "147       0.025                      0.100  4.691485  \n",
              "148       0.331                      0.141  2.536466  \n",
              "149       0.218                      0.089  3.429078  \n",
              "150       0.108                      0.077  4.027524  \n",
              "151       0.217                      0.411  4.450765  \n",
              "152       0.276                      0.147  4.362982  \n",
              "153       0.158                      0.025  2.203438  \n",
              "154       0.235                      0.035  1.068924  \n",
              "155       0.202                      0.091  2.370687  "
            ],
            "text/html": [
              "\n",
              "  <div id=\"df-4137ff8b-b2f5-4eaa-b64a-c42702d63897\">\n",
              "    <div class=\"colab-df-container\">\n",
              "      <div>\n",
              "<style scoped>\n",
              "    .dataframe tbody tr th:only-of-type {\n",
              "        vertical-align: middle;\n",
              "    }\n",
              "\n",
              "    .dataframe tbody tr th {\n",
              "        vertical-align: top;\n",
              "    }\n",
              "\n",
              "    .dataframe thead th {\n",
              "        text-align: right;\n",
              "    }\n",
              "</style>\n",
              "<table border=\"1\" class=\"dataframe\">\n",
              "  <thead>\n",
              "    <tr style=\"text-align: right;\">\n",
              "      <th></th>\n",
              "      <th>Overall rank</th>\n",
              "      <th>Country or region</th>\n",
              "      <th>Score</th>\n",
              "      <th>GDP per capita</th>\n",
              "      <th>Social support</th>\n",
              "      <th>Healthy life expectancy</th>\n",
              "      <th>Freedom to make life choices</th>\n",
              "      <th>Generosity</th>\n",
              "      <th>Perceptions of corruption</th>\n",
              "      <th>Estimate</th>\n",
              "    </tr>\n",
              "  </thead>\n",
              "  <tbody>\n",
              "    <tr>\n",
              "      <th>146</th>\n",
              "      <td>147</td>\n",
              "      <td>Haiti</td>\n",
              "      <td>3.597</td>\n",
              "      <td>0.323</td>\n",
              "      <td>0.688</td>\n",
              "      <td>0.449</td>\n",
              "      <td>0.026</td>\n",
              "      <td>0.419</td>\n",
              "      <td>0.110</td>\n",
              "      <td>3.364403</td>\n",
              "    </tr>\n",
              "    <tr>\n",
              "      <th>147</th>\n",
              "      <td>148</td>\n",
              "      <td>Botswana</td>\n",
              "      <td>3.488</td>\n",
              "      <td>1.041</td>\n",
              "      <td>1.145</td>\n",
              "      <td>0.538</td>\n",
              "      <td>0.455</td>\n",
              "      <td>0.025</td>\n",
              "      <td>0.100</td>\n",
              "      <td>4.691485</td>\n",
              "    </tr>\n",
              "    <tr>\n",
              "      <th>148</th>\n",
              "      <td>149</td>\n",
              "      <td>Syria</td>\n",
              "      <td>3.462</td>\n",
              "      <td>0.619</td>\n",
              "      <td>0.378</td>\n",
              "      <td>0.440</td>\n",
              "      <td>0.013</td>\n",
              "      <td>0.331</td>\n",
              "      <td>0.141</td>\n",
              "      <td>2.536466</td>\n",
              "    </tr>\n",
              "    <tr>\n",
              "      <th>149</th>\n",
              "      <td>150</td>\n",
              "      <td>Malawi</td>\n",
              "      <td>3.410</td>\n",
              "      <td>0.191</td>\n",
              "      <td>0.560</td>\n",
              "      <td>0.495</td>\n",
              "      <td>0.443</td>\n",
              "      <td>0.218</td>\n",
              "      <td>0.089</td>\n",
              "      <td>3.429078</td>\n",
              "    </tr>\n",
              "    <tr>\n",
              "      <th>150</th>\n",
              "      <td>151</td>\n",
              "      <td>Yemen</td>\n",
              "      <td>3.380</td>\n",
              "      <td>0.287</td>\n",
              "      <td>1.163</td>\n",
              "      <td>0.463</td>\n",
              "      <td>0.143</td>\n",
              "      <td>0.108</td>\n",
              "      <td>0.077</td>\n",
              "      <td>4.027524</td>\n",
              "    </tr>\n",
              "    <tr>\n",
              "      <th>151</th>\n",
              "      <td>152</td>\n",
              "      <td>Rwanda</td>\n",
              "      <td>3.334</td>\n",
              "      <td>0.359</td>\n",
              "      <td>0.711</td>\n",
              "      <td>0.614</td>\n",
              "      <td>0.555</td>\n",
              "      <td>0.217</td>\n",
              "      <td>0.411</td>\n",
              "      <td>4.450765</td>\n",
              "    </tr>\n",
              "    <tr>\n",
              "      <th>152</th>\n",
              "      <td>153</td>\n",
              "      <td>Tanzania</td>\n",
              "      <td>3.231</td>\n",
              "      <td>0.476</td>\n",
              "      <td>0.885</td>\n",
              "      <td>0.499</td>\n",
              "      <td>0.417</td>\n",
              "      <td>0.276</td>\n",
              "      <td>0.147</td>\n",
              "      <td>4.362982</td>\n",
              "    </tr>\n",
              "    <tr>\n",
              "      <th>153</th>\n",
              "      <td>154</td>\n",
              "      <td>Afghanistan</td>\n",
              "      <td>3.203</td>\n",
              "      <td>0.350</td>\n",
              "      <td>0.517</td>\n",
              "      <td>0.361</td>\n",
              "      <td>0.000</td>\n",
              "      <td>0.158</td>\n",
              "      <td>0.025</td>\n",
              "      <td>2.203438</td>\n",
              "    </tr>\n",
              "    <tr>\n",
              "      <th>154</th>\n",
              "      <td>155</td>\n",
              "      <td>Central African Republic</td>\n",
              "      <td>3.083</td>\n",
              "      <td>0.026</td>\n",
              "      <td>0.000</td>\n",
              "      <td>0.105</td>\n",
              "      <td>0.225</td>\n",
              "      <td>0.235</td>\n",
              "      <td>0.035</td>\n",
              "      <td>1.068924</td>\n",
              "    </tr>\n",
              "    <tr>\n",
              "      <th>155</th>\n",
              "      <td>156</td>\n",
              "      <td>South Sudan</td>\n",
              "      <td>2.853</td>\n",
              "      <td>0.306</td>\n",
              "      <td>0.575</td>\n",
              "      <td>0.295</td>\n",
              "      <td>0.010</td>\n",
              "      <td>0.202</td>\n",
              "      <td>0.091</td>\n",
              "      <td>2.370687</td>\n",
              "    </tr>\n",
              "  </tbody>\n",
              "</table>\n",
              "</div>\n",
              "      <button class=\"colab-df-convert\" onclick=\"convertToInteractive('df-4137ff8b-b2f5-4eaa-b64a-c42702d63897')\"\n",
              "              title=\"Convert this dataframe to an interactive table.\"\n",
              "              style=\"display:none;\">\n",
              "        \n",
              "  <svg xmlns=\"http://www.w3.org/2000/svg\" height=\"24px\"viewBox=\"0 0 24 24\"\n",
              "       width=\"24px\">\n",
              "    <path d=\"M0 0h24v24H0V0z\" fill=\"none\"/>\n",
              "    <path d=\"M18.56 5.44l.94 2.06.94-2.06 2.06-.94-2.06-.94-.94-2.06-.94 2.06-2.06.94zm-11 1L8.5 8.5l.94-2.06 2.06-.94-2.06-.94L8.5 2.5l-.94 2.06-2.06.94zm10 10l.94 2.06.94-2.06 2.06-.94-2.06-.94-.94-2.06-.94 2.06-2.06.94z\"/><path d=\"M17.41 7.96l-1.37-1.37c-.4-.4-.92-.59-1.43-.59-.52 0-1.04.2-1.43.59L10.3 9.45l-7.72 7.72c-.78.78-.78 2.05 0 2.83L4 21.41c.39.39.9.59 1.41.59.51 0 1.02-.2 1.41-.59l7.78-7.78 2.81-2.81c.8-.78.8-2.07 0-2.86zM5.41 20L4 18.59l7.72-7.72 1.47 1.35L5.41 20z\"/>\n",
              "  </svg>\n",
              "      </button>\n",
              "      \n",
              "  <style>\n",
              "    .colab-df-container {\n",
              "      display:flex;\n",
              "      flex-wrap:wrap;\n",
              "      gap: 12px;\n",
              "    }\n",
              "\n",
              "    .colab-df-convert {\n",
              "      background-color: #E8F0FE;\n",
              "      border: none;\n",
              "      border-radius: 50%;\n",
              "      cursor: pointer;\n",
              "      display: none;\n",
              "      fill: #1967D2;\n",
              "      height: 32px;\n",
              "      padding: 0 0 0 0;\n",
              "      width: 32px;\n",
              "    }\n",
              "\n",
              "    .colab-df-convert:hover {\n",
              "      background-color: #E2EBFA;\n",
              "      box-shadow: 0px 1px 2px rgba(60, 64, 67, 0.3), 0px 1px 3px 1px rgba(60, 64, 67, 0.15);\n",
              "      fill: #174EA6;\n",
              "    }\n",
              "\n",
              "    [theme=dark] .colab-df-convert {\n",
              "      background-color: #3B4455;\n",
              "      fill: #D2E3FC;\n",
              "    }\n",
              "\n",
              "    [theme=dark] .colab-df-convert:hover {\n",
              "      background-color: #434B5C;\n",
              "      box-shadow: 0px 1px 3px 1px rgba(0, 0, 0, 0.15);\n",
              "      filter: drop-shadow(0px 1px 2px rgba(0, 0, 0, 0.3));\n",
              "      fill: #FFFFFF;\n",
              "    }\n",
              "  </style>\n",
              "\n",
              "      <script>\n",
              "        const buttonEl =\n",
              "          document.querySelector('#df-4137ff8b-b2f5-4eaa-b64a-c42702d63897 button.colab-df-convert');\n",
              "        buttonEl.style.display =\n",
              "          google.colab.kernel.accessAllowed ? 'block' : 'none';\n",
              "\n",
              "        async function convertToInteractive(key) {\n",
              "          const element = document.querySelector('#df-4137ff8b-b2f5-4eaa-b64a-c42702d63897');\n",
              "          const dataTable =\n",
              "            await google.colab.kernel.invokeFunction('convertToInteractive',\n",
              "                                                     [key], {});\n",
              "          if (!dataTable) return;\n",
              "\n",
              "          const docLinkHtml = 'Like what you see? Visit the ' +\n",
              "            '<a target=\"_blank\" href=https://colab.research.google.com/notebooks/data_table.ipynb>data table notebook</a>'\n",
              "            + ' to learn more about interactive tables.';\n",
              "          element.innerHTML = '';\n",
              "          dataTable['output_type'] = 'display_data';\n",
              "          await google.colab.output.renderOutput(dataTable, element);\n",
              "          const docLink = document.createElement('div');\n",
              "          docLink.innerHTML = docLinkHtml;\n",
              "          element.appendChild(docLink);\n",
              "        }\n",
              "      </script>\n",
              "    </div>\n",
              "  </div>\n",
              "  "
            ]
          },
          "metadata": {},
          "execution_count": 8
        }
      ]
    },
    {
      "cell_type": "markdown",
      "source": [
        "# Graphing\n",
        "This section is a group of scatter plots showing the correlation between the Overall Score, which directly correlates to the happiness rank, and the other variables which helps determine the overall happiness score."
      ],
      "metadata": {
        "id": "QK9Tbszrgxoi"
      }
    },
    {
      "cell_type": "code",
      "source": [
        "#Graphing\n",
        "X1 = data['GDP per capita']\n",
        "X2 = data['Social support']\n",
        "X3 = data['Healthy life expectancy']\n",
        "X4 = data ['Freedom to make life choices']\n",
        "X5 = data ['Generosity']\n",
        "X6 = data ['Perceptions of corruption']\n",
        "\n",
        "y = data['Score']\n",
        "\n",
        "plt.scatter(X1, y, c = 'lightblue', label= \"GDP per capita\")\n",
        "plt.scatter(X2, y, c = 'magenta', label= \"Social Support\")\n",
        "plt.scatter(X3, y, c = 'lightgreen', label = \"Healthy life expectancy\")\n",
        "plt.scatter(X4, y, c = 'pink', label = \"Freedom to make life choices\")\n",
        "plt.scatter(X5, y, c = 'plum', label = \"Generosity\")\n",
        "plt.scatter(X6, y, c = 'blueviolet', label = \"Perceptions of corruption\")\n",
        "\n",
        "plt.xlabel(\"Rating of Parameter\")\n",
        "plt.ylabel(\"Happiness\")\n",
        "plt.title(\"Happiness vs. Parameter\")\n",
        "plt.legend()"
      ],
      "metadata": {
        "colab": {
          "base_uri": "https://localhost:8080/",
          "height": 313
        },
        "id": "9lpnvLQEZHbx",
        "outputId": "49b5f7a6-4353-49d1-c834-a19accb6c127"
      },
      "execution_count": 3,
      "outputs": [
        {
          "output_type": "execute_result",
          "data": {
            "text/plain": [
              "<matplotlib.legend.Legend at 0x7f7e070f7910>"
            ]
          },
          "metadata": {},
          "execution_count": 3
        },
        {
          "output_type": "display_data",
          "data": {
            "text/plain": [
              "<Figure size 432x288 with 1 Axes>"
            ],
            "image/png": "[encoded data removed]"
          },
          "metadata": {
            "needs_background": "light"
          }
        }
      ]
    },
    {
      "cell_type": "markdown",
      "source": [
        "# Cleaning up the Data for computation\n",
        "In this section I define my X and Y. X is a culmination of columns 4-9 which are the factors that help determine the happiness score, which is Y."
      ],
      "metadata": {
        "id": "o9KQ3UzMoWxW"
      }
    },
    {
      "cell_type": "code",
      "source": [
        "Parameters = ['GDP per capita', 'Social support', 'Healthy life expectancy','Freedom to make life choices', \n",
        "           'Generosity', 'Perceptions of corruption']\n",
        "\n",
        "\n",
        "X = data[Parameters]\n",
        "y = data['Score']\n",
        "Regressionmodel = LinearRegression(fit_intercept= False)\n",
        "Regressionmodel.fit(X, y)\n",
        "data['Estimate'] = Regressionmodel.predict(X)"
      ],
      "metadata": {
        "id": "TwkhCeLQqCy8"
      },
      "execution_count": 4,
      "outputs": []
    },
    {
      "cell_type": "markdown",
      "source": [
        "# Plotting Estimated Coefficient vs. Score\n",
        "Here is the comparison of the calculated estimate above and the actual score. This is where I compare Y, the Happiness Score, to a weighted linear combination of the variables in X (GDP per capita, Social support, Healthy life expectancy, Freedom to make life choices, Generosity, Perceptions of corruption)"
      ],
      "metadata": {
        "id": "EUz6DxKaaQ2T"
      }
    },
    {
      "cell_type": "code",
      "source": [
        "data[['Score', 'Estimate']].plot(alpha=1);\n",
        "plt.title(\"Estimated Coefficients and Score across 160 countries \")\n",
        "plt.xlabel(\"160 Countries Measured in World Study\")\n",
        "plt.ylabel(\"Happiness Score\")"
      ],
      "metadata": {
        "colab": {
          "base_uri": "https://localhost:8080/",
          "height": 313
        },
        "id": "edZSzePx4c48",
        "outputId": "5e5ca989-9ce2-4ddc-822b-790c4112034b"
      },
      "execution_count": 5,
      "outputs": [
        {
          "output_type": "execute_result",
          "data": {
            "text/plain": [
              "Text(0, 0.5, 'Happiness Score')"
            ]
          },
          "metadata": {},
          "execution_count": 5
        },
        {
          "output_type": "display_data",
          "data": {
            "text/plain": [
              "<Figure size 432x288 with 1 Axes>"
            ],
            "image/png": "[encoded data removed]"
          },
          "metadata": {
            "needs_background": "light"
          }
        }
      ]
    },
    {
      "cell_type": "markdown",
      "source": [
        "# Showing the Weight each Parameter \n",
        "This section shows the weight each parameter has in relation to computing the Happiness Score. This is ultimately what I was searching for and can be applicable for other countries wanting to boost their citizen's overall happiness. This is also applicable for people looking to move countries or states, determining the Overall Happiness of the community they might move to."
      ],
      "metadata": {
        "id": "tiVCoRDwakuE"
      }
    },
    {
      "cell_type": "code",
      "source": [
        "WeightOfParameters = pd.Series(Regressionmodel.coef_, index=X.columns)\n",
        "WeightOfParameters"
      ],
      "metadata": {
        "colab": {
          "base_uri": "https://localhost:8080/"
        },
        "id": "FaAjllkA4zVT",
        "outputId": "5bf58417-c1c8-4d9d-c5fa-60593225c150"
      },
      "execution_count": 6,
      "outputs": [
        {
          "output_type": "execute_result",
          "data": {
            "text/plain": [
              "GDP per capita                  0.242116\n",
              "Social support                  2.290587\n",
              "Healthy life expectancy         1.664839\n",
              "Freedom to make life choices    1.748913\n",
              "Generosity                      1.991014\n",
              "Perceptions of corruption       0.755061\n",
              "dtype: float64"
            ]
          },
          "metadata": {},
          "execution_count": 6
        }
      ]
    },
    {
      "cell_type": "markdown",
      "source": [
        "# Visualizing the impact of each parameter on the Overall Happiness"
      ],
      "metadata": {
        "id": "MIGYikxSetGA"
      }
    },
    {
      "cell_type": "code",
      "source": [
        "plt.bar(1, height = WeightOfParameters[0], color = 'lightblue', label = \"GDP per capita\")\n",
        "plt.bar(2, height = WeightOfParameters[1], color = 'magenta', label = \"Social support\")\n",
        "plt.bar(3, height = WeightOfParameters[2], color = 'lightgreen', label = \"Healthy life expectancy\")\n",
        "plt.bar(4, height = WeightOfParameters[3], color = 'pink', label = \"Freedom to make life choices\")\n",
        "plt.bar(5, height = WeightOfParameters[4], color = 'plum', label = \"Generosity\")\n",
        "plt.bar(6, height = WeightOfParameters[5], color = 'blueviolet', label = \"Perceptions of corruption\")\n",
        "plt.xlabel(\"Weight of Parameter\")\n",
        "plt.ylabel(\"Happiness\")\n",
        "plt.title(\"Effect of Each Parameter on Overall Happiness\")\n",
        "plt.legend()"
      ],
      "metadata": {
        "colab": {
          "base_uri": "https://localhost:8080/",
          "height": 313
        },
        "id": "veTx76KobTqF",
        "outputId": "fc7efb22-cf2a-495d-a45d-6c2d743d5e12"
      },
      "execution_count": 7,
      "outputs": [
        {
          "output_type": "execute_result",
          "data": {
            "text/plain": [
              "<matplotlib.legend.Legend at 0x7f7e04afed90>"
            ]
          },
          "metadata": {},
          "execution_count": 7
        },
        {
          "output_type": "display_data",
          "data": {
            "text/plain": [
              "<Figure size 432x288 with 1 Axes>"
            ],
            "image/png": "[encoded data removed]"
          },
          "metadata": {
            "needs_background": "light"
          }
        }
      ]
    },
    {
      "cell_type": "markdown",
      "source": [
        "# Conclusion\n",
        "From the graph above you can see that the most important factors on the Overall Happiness Score are Social support, Generosity, Freedom to make life choices rather than GDP per capita or perception of corruption."
      ],
      "metadata": {
        "id": "7o6Qzrfyhu4Y"
      }
    }
  ]
}